{
 "cells": [
  {
   "cell_type": "markdown",
   "metadata": {},
   "source": [
    "# Basic Numpy Operation 1D"
   ]
  },
  {
   "cell_type": "code",
   "execution_count": 43,
   "metadata": {},
   "outputs": [
    {
     "name": "stdout",
     "output_type": "stream",
     "text": [
      "array [26  4  7 43  6 80  5 21]\n",
      "size 8\n",
      "shape (8,)\n",
      "sorting [ 4  5  6  7 21 26 43 80]\n",
      "Reverse [21  5 80  6 43  7  4 26]\n",
      "Dimension 1\n",
      "Type <class 'numpy.ndarray'>\n",
      "Indexing 5\n",
      "Fancy Indexing [ 7 80 26]\n",
      "slicing [ 7 43  6]\n",
      "Ventorization [ 78  12  21 129  18 240  15  63]\n",
      "element wise operation [52  8 14 86]\n",
      "Split [array([26,  4]), array([ 7, 43,  6]), array([80,  5, 21])]\n",
      "square_root [5.09901951 2.         2.64575131 6.55743852 2.44948974 8.94427191\n",
      " 2.23606798 4.58257569]\n",
      "exponent [1.95729609e+11 5.45981500e+01 1.09663316e+03 4.72783947e+18\n",
      " 4.03428793e+02 5.54062238e+34 1.48413159e+02 1.31881573e+09]\n",
      "absolute value [26  4  7 43  6 80  5 21]\n",
      "round off [26.  4.  7. 43.  6. 80.  5. 21.]\n"
     ]
    }
   ],
   "source": [
    "import numpy as np\n",
    "a1=np.array([26,4,7,43,6,80,5,21])\n",
    "print('array',a1)\n",
    "print('size',a1.size)\n",
    "print('shape',a1.shape)\n",
    "print('sorting',np.sort(a1))\n",
    "print('Reverse',np.flip(a1))\n",
    "print('Dimension',a1.ndim)\n",
    "print('Type',type(a1))\n",
    "print('Indexing',a1[6])\n",
    "print('Fancy Indexing',a1[[2,5,0]])\n",
    "print('slicing',a1[2:5])\n",
    "print('Ventorization',a1*3)\n",
    "print('element wise operation',a1[:4]*2)\n",
    "print('Split',np.split(a1,[2,5]))\n",
    "print('square_root',np.sqrt(a1))\n",
    "print('exponent',np.exp(a1)) #a1**any number (alternate method)\n",
    "print('absolute value',np.abs(a1))\n",
    "print('round off',np.rint(a1))\n"
   ]
  },
  {
   "cell_type": "markdown",
   "metadata": {},
   "source": [
    "# 2D"
   ]
  },
  {
   "cell_type": "code",
   "execution_count": 8,
   "metadata": {},
   "outputs": [
    {
     "name": "stdout",
     "output_type": "stream",
     "text": [
      "array [[[26  4  7]\n",
      "  [43  6 80]]\n",
      "\n",
      " [[ 5 21  6]\n",
      "  [ 5  1  0]]]\n",
      "size 12\n",
      "shape (2, 2, 3)\n",
      "sorting [[[ 4  7 26]\n",
      "  [ 6 43 80]]\n",
      "\n",
      " [[ 5  6 21]\n",
      "  [ 0  1  5]]]\n",
      "Reverse [[[ 0  1  5]\n",
      "  [ 6 21  5]]\n",
      "\n",
      " [[80  6 43]\n",
      "  [ 7  4 26]]]\n",
      "Dimension 3\n",
      "Type <class 'numpy.ndarray'>\n",
      "Indexing [[ 5 21  6]\n",
      " [ 5  1  0]]\n",
      "Fancy Indexing [[[26  4  7]\n",
      "  [43  6 80]]\n",
      "\n",
      " [[ 5 21  6]\n",
      "  [ 5  1  0]]]\n",
      "slicing [[[26  4  7]\n",
      "  [43  6 80]]\n",
      "\n",
      " [[ 5 21  6]\n",
      "  [ 5  1  0]]]\n",
      "Ventorization [[[ 78  12  21]\n",
      "  [129  18 240]]\n",
      "\n",
      " [[ 15  63  18]\n",
      "  [ 15   3   0]]]\n",
      "element wise operation [[[ 52   8  14]\n",
      "  [ 86  12 160]]\n",
      "\n",
      " [[ 10  42  12]\n",
      "  [ 10   2   0]]]\n"
     ]
    }
   ],
   "source": [
    "import numpy as np\n",
    "a2=np.array([[[26,4,7],[43,6,80]]\n",
    "            ,[[5,21,6],[5,1,0]]])\n",
    "print('array',a2)\n",
    "print('size',a2.size)\n",
    "print('shape',a2.shape)\n",
    "print('sorting',np.sort(a2))\n",
    "print('Reverse',np.flip(a2))\n",
    "print('Dimension',a2.ndim)\n",
    "print('Type',type(a2))\n",
    "print('Indexing',a2[1])\n",
    "print('Fancy Indexing',a2[[0,1]])\n",
    "print('slicing',a2[:2])\n",
    "print('Ventorization',a2*3)\n",
    "print('element wise operation',a2[:2]*2)"
   ]
  },
  {
   "cell_type": "markdown",
   "metadata": {},
   "source": [
    "# Text Spliting"
   ]
  },
  {
   "cell_type": "code",
   "execution_count": 10,
   "metadata": {},
   "outputs": [
    {
     "name": "stdout",
     "output_type": "stream",
     "text": [
      "<class 'numpy.ndarray'>\n",
      "['\"Here' 'are' 'some' 'of' 'the' 'things' 'you’ll' 'find' 'in' 'NumPy:'\n",
      " '•' 'ndarray,' 'an' 'efficient' 'multidimensional'] \n",
      " 43\n"
     ]
    }
   ],
   "source": [
    "import numpy as np\n",
    "txt = \"\"\"\"Here are some of the things you’ll find in NumPy:\n",
    "• ndarray, an efficient multidimensional array providing fast array-oriented arith‐\n",
    "metic operations and flexible broadcasting capabilities.\n",
    "• Mathematical functions for fast operations on entire arrays of data without hav‐\n",
    "ing to write loops.\"\"\"\"\"\n",
    "a3=np.array(txt.split())\n",
    "print(type(a3))\n",
    "print(a3[:15], '\\n',len(a3))"
   ]
  },
  {
   "cell_type": "markdown",
   "metadata": {},
   "source": [
    "# Arithmetic Operations on Arrays"
   ]
  },
  {
   "cell_type": "code",
   "execution_count": 45,
   "metadata": {},
   "outputs": [
    {
     "name": "stdout",
     "output_type": "stream",
     "text": [
      "[[ 7 11  6  9]\n",
      " [ 6  8  2  7]] \n",
      " [[ 5  7  0  1]\n",
      " [-4  2 -2  5]] \n",
      " [[ 6 18  9 20]\n",
      " [ 5 15  0  6]] \n",
      " [[6.         4.5        1.         1.25      ]\n",
      " [0.2        1.66666667 0.         6.        ]]\n",
      "[[6 9 3 5]\n",
      " [5 5 2 6]]\n",
      "[[1 2 3 4]\n",
      " [1 3 0 1]]\n"
     ]
    }
   ],
   "source": [
    "x=np.array([[6,9,3,5],[1,5,0,6]])\n",
    "y=np.array([[1,2,3,4],[5,3,2,1]])\n",
    "add = x+y\n",
    "sub=x-y\n",
    "mult=x*y\n",
    "div=x/y\n",
    "print(add,'\\n',sub,'\\n',mult,'\\n',div)\n",
    "print(np.maximum(x,y))\n",
    "print(np.minimum(x,y))"
   ]
  },
  {
   "cell_type": "markdown",
   "metadata": {},
   "source": [
    "# Boolean Array"
   ]
  },
  {
   "cell_type": "code",
   "execution_count": 17,
   "metadata": {},
   "outputs": [
    {
     "name": "stdout",
     "output_type": "stream",
     "text": [
      "[[False False  True False]\n",
      " [False False False False]]\n",
      "[[False  True False  True]\n",
      " [False False False False]]\n",
      "[11  9]\n"
     ]
    }
   ],
   "source": [
    "x=np.array([[6,9,3,5],[1,5,0,6]])\n",
    "y=np.array([[1,2,3,4],[5,3,2,1]])\n",
    "add = x+y\n",
    "boolean=(x==y)  #we use boolean array for filtering data\n",
    "# when we compare 2 arrays through equality operator '='. It goves us a Boolean array in return\n",
    "print(boolean)\n",
    "boolean=add>8\n",
    "\n",
    "arrayfilter1=boolean\n",
    "print(arrayfilter1)\n",
    "\n",
    "arrayfilter=add[boolean]\n",
    "print(arrayfilter)"
   ]
  },
  {
   "cell_type": "markdown",
   "metadata": {},
   "source": [
    "# Different Shapes of Array"
   ]
  },
  {
   "cell_type": "code",
   "execution_count": 71,
   "metadata": {},
   "outputs": [
    {
     "name": "stdout",
     "output_type": "stream",
     "text": [
      "[[[0. 0. 0. 0. 0.]\n",
      "  [0. 0. 0. 0. 0.]\n",
      "  [0. 0. 0. 0. 0.]]\n",
      "\n",
      " [[0. 0. 0. 0. 0.]\n",
      "  [0. 0. 0. 0. 0.]\n",
      "  [0. 0. 0. 0. 0.]]]\n",
      "(2, 3, 5)\n",
      "30\n",
      "3\n",
      "[0. 0. 0. 0. 0. 0. 0. 0. 0. 0. 0. 0. 0. 0. 0. 0. 0. 0. 0. 0. 0. 0. 0. 0.\n",
      " 0. 0. 0. 0. 0. 0.]\n"
     ]
    },
    {
     "data": {
      "text/plain": [
       "array([0., 0., 0., 0., 0., 0., 0., 0., 0., 0., 0., 0., 0., 0., 0., 0., 0.,\n",
       "       0., 0., 0., 0., 0., 0., 0., 0., 0., 0., 0., 0., 0.])"
      ]
     },
     "execution_count": 71,
     "metadata": {},
     "output_type": "execute_result"
    }
   ],
   "source": [
    "a4=np.zeros([2,3,5])\n",
    "print(a4)\n",
    "print(a4.shape)\n",
    "print(a4.size)\n",
    "print(a4.ndim)\n",
    "print(a4.ravel())\n",
    "printa4.flatten()"
   ]
  },
  {
   "cell_type": "code",
   "execution_count": 34,
   "metadata": {},
   "outputs": [
    {
     "data": {
      "text/plain": [
       "array([[[[3., 3., 3., 3., 3.],\n",
       "         [3., 3., 3., 3., 3.],\n",
       "         [3., 3., 3., 3., 3.],\n",
       "         [3., 3., 3., 3., 3.]],\n",
       "\n",
       "        [[3., 3., 3., 3., 3.],\n",
       "         [3., 3., 3., 3., 3.],\n",
       "         [3., 3., 3., 3., 3.],\n",
       "         [3., 3., 3., 3., 3.]],\n",
       "\n",
       "        [[3., 3., 3., 3., 3.],\n",
       "         [3., 3., 3., 3., 3.],\n",
       "         [3., 3., 3., 3., 3.],\n",
       "         [3., 3., 3., 3., 3.]]],\n",
       "\n",
       "\n",
       "       [[[3., 3., 3., 3., 3.],\n",
       "         [3., 3., 3., 3., 3.],\n",
       "         [3., 3., 3., 3., 3.],\n",
       "         [3., 3., 3., 3., 3.]],\n",
       "\n",
       "        [[3., 3., 3., 3., 3.],\n",
       "         [3., 3., 3., 3., 3.],\n",
       "         [3., 3., 3., 3., 3.],\n",
       "         [3., 3., 3., 3., 3.]],\n",
       "\n",
       "        [[3., 3., 3., 3., 3.],\n",
       "         [3., 3., 3., 3., 3.],\n",
       "         [3., 3., 3., 3., 3.],\n",
       "         [3., 3., 3., 3., 3.]]]])"
      ]
     },
     "execution_count": 34,
     "metadata": {},
     "output_type": "execute_result"
    }
   ],
   "source": [
    "a4.fill(3)\n",
    "a4"
   ]
  },
  {
   "cell_type": "code",
   "execution_count": 41,
   "metadata": {},
   "outputs": [
    {
     "data": {
      "text/plain": [
       "array([[[[3., 3., 3., 3., 3.],\n",
       "         [3., 3., 3., 3., 3.],\n",
       "         [3., 3., 3., 3., 3.],\n",
       "         [3., 3., 3., 3., 3.]],\n",
       "\n",
       "        [[3., 3., 3., 3., 3.],\n",
       "         [3., 3., 3., 3., 3.],\n",
       "         [3., 3., 3., 3., 3.],\n",
       "         [3., 3., 3., 3., 3.]],\n",
       "\n",
       "        [[3., 3., 3., 3., 3.],\n",
       "         [3., 3., 3., 3., 3.],\n",
       "         [3., 3., 3., 3., 3.],\n",
       "         [1., 9., 9., 9., 9.]]],\n",
       "\n",
       "\n",
       "       [[[3., 3., 3., 3., 3.],\n",
       "         [3., 3., 3., 3., 3.],\n",
       "         [3., 3., 3., 3., 3.],\n",
       "         [3., 3., 3., 3., 3.]],\n",
       "\n",
       "        [[3., 3., 3., 3., 3.],\n",
       "         [3., 3., 3., 3., 3.],\n",
       "         [3., 3., 3., 3., 3.],\n",
       "         [3., 3., 3., 3., 3.]],\n",
       "\n",
       "        [[3., 3., 3., 3., 3.],\n",
       "         [3., 3., 3., 3., 3.],\n",
       "         [3., 3., 3., 3., 3.],\n",
       "         [3., 3., 3., 3., 3.]]]])"
      ]
     },
     "execution_count": 41,
     "metadata": {},
     "output_type": "execute_result"
    }
   ],
   "source": [
    "a4[0,2,3,0]=1 #0 indicates 0 n 1 index then2 indicates 0 1 2 index then3 indicates 0 1 2 3 index and then last 0 indicates 0 1 2  3 4 index\n",
    "a4"
   ]
  },
  {
   "cell_type": "code",
   "execution_count": 81,
   "metadata": {},
   "outputs": [
    {
     "name": "stdout",
     "output_type": "stream",
     "text": [
      "[[[0.57599622 0.07224621]\n",
      "  [0.59371462 0.09980974]\n",
      "  [0.16611594 0.33463599]\n",
      "  [0.70392147 0.04109214]\n",
      "  [0.26590773 0.37658154]]\n",
      "\n",
      " [[0.48949418 0.0664758 ]\n",
      "  [0.72049693 0.96858562]\n",
      "  [0.89560853 0.93220164]\n",
      "  [0.66926423 0.77915128]\n",
      "  [0.48041599 0.13389517]]\n",
      "\n",
      " [[0.30356262 0.32553491]\n",
      "  [0.0301912  0.98292973]\n",
      "  [0.71236202 0.19369329]\n",
      "  [0.67766605 0.71344668]\n",
      "  [0.23810005 0.959025  ]]\n",
      "\n",
      " [[0.57043414 0.8564727 ]\n",
      "  [0.21788302 0.76742535]\n",
      "  [0.56877135 0.23894033]\n",
      "  [0.71217317 0.78826656]\n",
      "  [0.80308029 0.88413055]]\n",
      "\n",
      " [[0.43188915 0.22290378]\n",
      "  [0.86715082 0.29803628]\n",
      "  [0.98968894 0.63611182]\n",
      "  [0.91295475 0.1855911 ]\n",
      "  [0.55577951 0.40036513]]]\n",
      "(5, 5, 2)\n",
      "3\n",
      "[[0.57599622 0.07224621]\n",
      " [0.59371462 0.09980974]\n",
      " [0.16611594 0.33463599]\n",
      " [0.70392147 0.04109214]\n",
      " [0.26590773 0.37658154]\n",
      " [0.48949418 0.0664758 ]\n",
      " [0.72049693 0.96858562]\n",
      " [0.89560853 0.93220164]\n",
      " [0.66926423 0.77915128]\n",
      " [0.48041599 0.13389517]\n",
      " [0.30356262 0.32553491]\n",
      " [0.0301912  0.98292973]\n",
      " [0.71236202 0.19369329]\n",
      " [0.67766605 0.71344668]\n",
      " [0.23810005 0.959025  ]\n",
      " [0.57043414 0.8564727 ]\n",
      " [0.21788302 0.76742535]\n",
      " [0.56877135 0.23894033]\n",
      " [0.71217317 0.78826656]\n",
      " [0.80308029 0.88413055]\n",
      " [0.43188915 0.22290378]\n",
      " [0.86715082 0.29803628]\n",
      " [0.98968894 0.63611182]\n",
      " [0.91295475 0.1855911 ]\n",
      " [0.55577951 0.40036513]]\n",
      "(25, 2)\n",
      "50\n"
     ]
    }
   ],
   "source": [
    "a5=np.random.rand(5,5,2)\n",
    "print(a5)\n",
    "print(a5.shape)\n",
    "print(a5.ndim)\n",
    "a5.flatten()\n",
    "r=a5.reshape(25,2)\n",
    "print(r)\n",
    "print(r.shape)\n",
    "print(r.size)"
   ]
  },
  {
   "cell_type": "code",
   "execution_count": 59,
   "metadata": {},
   "outputs": [
    {
     "data": {
      "text/plain": [
       "array([[0.98139525, 0.08255405, 0.88253804, 0.473489  , 0.99945558],\n",
       "       [0.23214432, 0.88587875, 0.3750585 , 0.83735347, 0.84249864],\n",
       "       [0.28097963, 0.96116615, 0.61006715, 0.10074896, 0.557611  ],\n",
       "       [0.02658959, 0.00590639, 0.99342252, 0.59772761, 0.44875111],\n",
       "       [0.98566183, 0.03217617, 0.72827979, 0.18269968, 0.47875316]])"
      ]
     },
     "execution_count": 59,
     "metadata": {},
     "output_type": "execute_result"
    }
   ],
   "source": [
    "np.random.shuffle(a5)\n",
    "a5\n"
   ]
  },
  {
   "cell_type": "code",
   "execution_count": 60,
   "metadata": {},
   "outputs": [
    {
     "data": {
      "text/plain": [
       "array([ 0,  1,  2,  3,  4,  5,  6,  7,  8,  9, 10, 11, 12, 13, 14])"
      ]
     },
     "execution_count": 60,
     "metadata": {},
     "output_type": "execute_result"
    }
   ],
   "source": [
    "a6=np.arange(15)\n",
    "a6"
   ]
  },
  {
   "cell_type": "code",
   "execution_count": 63,
   "metadata": {},
   "outputs": [
    {
     "data": {
      "text/plain": [
       "array([0.98139525, 0.08255405, 0.88253804, 0.473489  , 0.99945558,\n",
       "       0.23214432, 0.88587875, 0.3750585 , 0.83735347, 0.84249864,\n",
       "       0.28097963, 0.96116615, 0.61006715, 0.10074896, 0.557611  ,\n",
       "       0.02658959, 0.00590639, 0.99342252, 0.59772761, 0.44875111,\n",
       "       0.98566183, 0.03217617, 0.72827979, 0.18269968, 0.47875316])"
      ]
     },
     "execution_count": 63,
     "metadata": {},
     "output_type": "execute_result"
    }
   ],
   "source": [
    "a5.ravel()"
   ]
  },
  {
   "cell_type": "code",
   "execution_count": 85,
   "metadata": {},
   "outputs": [
    {
     "name": "stdout",
     "output_type": "stream",
     "text": [
      "[[0.4359949  0.02592623 0.54966248]\n",
      " [0.43532239 0.4203678  0.33033482]\n",
      " [0.20464863 0.61927097 0.29965467]]\n"
     ]
    }
   ],
   "source": [
    "np.random.seed(2)\n",
    "print(np.random.rand(3,3))\n"
   ]
  },
  {
   "cell_type": "markdown",
   "metadata": {},
   "source": [
    "# Transpose and Swapping Axes"
   ]
  },
  {
   "cell_type": "code",
   "execution_count": 1,
   "metadata": {},
   "outputs": [
    {
     "data": {
      "text/plain": [
       "array([[0.00531129, 0.82373828, 0.54609413, 0.52353776],\n",
       "       [0.47708167, 0.15625368, 0.59387889, 0.55700712],\n",
       "       [0.35727635, 0.41100302, 0.18857515, 0.33562623],\n",
       "       [0.02446544, 0.11184894, 0.99371767, 0.44882786]])"
      ]
     },
     "execution_count": 1,
     "metadata": {},
     "output_type": "execute_result"
    }
   ],
   "source": [
    "import numpy as np\n",
    "a8=np.random.rand(4,4)\n",
    "a8"
   ]
  },
  {
   "cell_type": "code",
   "execution_count": 2,
   "metadata": {},
   "outputs": [
    {
     "data": {
      "text/plain": [
       "array([[0.00531129, 0.47708167, 0.35727635, 0.02446544],\n",
       "       [0.82373828, 0.15625368, 0.41100302, 0.11184894],\n",
       "       [0.54609413, 0.59387889, 0.18857515, 0.99371767],\n",
       "       [0.52353776, 0.55700712, 0.33562623, 0.44882786]])"
      ]
     },
     "execution_count": 2,
     "metadata": {},
     "output_type": "execute_result"
    }
   ],
   "source": [
    "a8.T"
   ]
  },
  {
   "cell_type": "code",
   "execution_count": 3,
   "metadata": {},
   "outputs": [
    {
     "data": {
      "text/plain": [
       "array([[6., 6., 6., 6.],\n",
       "       [6., 6., 6., 6.],\n",
       "       [6., 6., 6., 6.],\n",
       "       [6., 6., 6., 6.]])"
      ]
     },
     "execution_count": 3,
     "metadata": {},
     "output_type": "execute_result"
    }
   ],
   "source": [
    "a8.fill(6)\n",
    "a8"
   ]
  },
  {
   "cell_type": "code",
   "execution_count": 10,
   "metadata": {},
   "outputs": [
    {
     "data": {
      "text/plain": [
       "array([[[6., 6.],\n",
       "        [6., 6.]],\n",
       "\n",
       "       [[6., 6.],\n",
       "        [6., 6.]],\n",
       "\n",
       "       [[6., 6.],\n",
       "        [6., 6.]],\n",
       "\n",
       "       [[6., 6.],\n",
       "        [6., 6.]]])"
      ]
     },
     "execution_count": 10,
     "metadata": {},
     "output_type": "execute_result"
    }
   ],
   "source": [
    "a9=a8.reshape(4,2,2)\n",
    "a9"
   ]
  },
  {
   "cell_type": "code",
   "execution_count": 15,
   "metadata": {},
   "outputs": [
    {
     "data": {
      "text/plain": [
       "array([[[6., 6.],\n",
       "        [6., 6.],\n",
       "        [6., 6.],\n",
       "        [6., 6.]],\n",
       "\n",
       "       [[6., 6.],\n",
       "        [6., 6.],\n",
       "        [6., 6.],\n",
       "        [6., 6.]]])"
      ]
     },
     "execution_count": 15,
     "metadata": {},
     "output_type": "execute_result"
    }
   ],
   "source": [
    "a9.swapaxes(1,0)\n"
   ]
  },
  {
   "cell_type": "code",
   "execution_count": 22,
   "metadata": {},
   "outputs": [
    {
     "data": {
      "text/plain": [
       "array([[[[1., 1., 1., 1., 1.],\n",
       "         [1., 1., 1., 1., 1.]],\n",
       "\n",
       "        [[1., 1., 1., 1., 1.],\n",
       "         [1., 1., 1., 1., 1.]],\n",
       "\n",
       "        [[1., 1., 1., 1., 1.],\n",
       "         [1., 1., 1., 1., 1.]],\n",
       "\n",
       "        [[1., 1., 1., 1., 1.],\n",
       "         [1., 1., 1., 1., 1.]]],\n",
       "\n",
       "\n",
       "       [[[1., 1., 1., 1., 1.],\n",
       "         [1., 1., 1., 1., 1.]],\n",
       "\n",
       "        [[1., 1., 1., 1., 1.],\n",
       "         [1., 1., 1., 1., 1.]],\n",
       "\n",
       "        [[1., 1., 1., 1., 1.],\n",
       "         [1., 1., 1., 1., 1.]],\n",
       "\n",
       "        [[1., 1., 1., 1., 1.],\n",
       "         [1., 1., 1., 1., 1.]]],\n",
       "\n",
       "\n",
       "       [[[1., 1., 1., 1., 1.],\n",
       "         [1., 1., 1., 1., 1.]],\n",
       "\n",
       "        [[1., 1., 1., 1., 1.],\n",
       "         [1., 1., 1., 1., 1.]],\n",
       "\n",
       "        [[1., 1., 1., 1., 1.],\n",
       "         [1., 1., 1., 1., 1.]],\n",
       "\n",
       "        [[1., 1., 1., 1., 1.],\n",
       "         [1., 1., 1., 1., 1.]]]])"
      ]
     },
     "execution_count": 22,
     "metadata": {},
     "output_type": "execute_result"
    }
   ],
   "source": [
    "a11=np.ones([3,4,2,5])\n",
    "\n",
    "a11"
   ]
  },
  {
   "cell_type": "code",
   "execution_count": 30,
   "metadata": {},
   "outputs": [
    {
     "data": {
      "text/plain": [
       "array([[[6, 1],\n",
       "        [9, 5],\n",
       "        [3, 0],\n",
       "        [5, 6]],\n",
       "\n",
       "       [[1, 5],\n",
       "        [2, 3],\n",
       "        [3, 2],\n",
       "        [4, 1]]])"
      ]
     },
     "execution_count": 30,
     "metadata": {},
     "output_type": "execute_result"
    }
   ],
   "source": [
    "a12=np.array([[[6,9,3,5],[1,5,0,6]],\n",
    "             [[1,2,3,4],[5,3,2,1]]])\n",
    "a12.transpose((0,2,1))  #Here 1 2 0 are axeses"
   ]
  },
  {
   "cell_type": "code",
   "execution_count": 40,
   "metadata": {},
   "outputs": [
    {
     "name": "stdout",
     "output_type": "stream",
     "text": [
      "[1. 3.]\n"
     ]
    }
   ],
   "source": [
    "a13=np.array([1.1,2.7])\n",
    "print(np.rint(a13)) #Round off"
   ]
  },
  {
   "cell_type": "code",
   "execution_count": null,
   "metadata": {},
   "outputs": [],
   "source": []
  }
 ],
 "metadata": {
  "kernelspec": {
   "display_name": "Python 3",
   "language": "python",
   "name": "python3"
  },
  "language_info": {
   "codemirror_mode": {
    "name": "ipython",
    "version": 3
   },
   "file_extension": ".py",
   "mimetype": "text/x-python",
   "name": "python",
   "nbconvert_exporter": "python",
   "pygments_lexer": "ipython3",
   "version": "3.7.3"
  }
 },
 "nbformat": 4,
 "nbformat_minor": 2
}

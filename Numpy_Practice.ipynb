{
 "cells": [
  {
   "cell_type": "markdown",
   "metadata": {},
   "source": [
    "# Basic Numpy Operation 1D"
   ]
  },
  {
   "cell_type": "code",
   "execution_count": 4,
   "metadata": {},
   "outputs": [
    {
     "name": "stdout",
     "output_type": "stream",
     "text": [
      "array [26  4  7 43  6 80  5 21]\n",
      "size 8\n",
      "shape (8,)\n",
      "sorting [ 4  5  6  7 21 26 43 80]\n",
      "Reverse [21  5 80  6 43  7  4 26]\n",
      "Dimension 1\n",
      "Type <class 'numpy.ndarray'>\n",
      "Indexing 5\n",
      "Fancy Indexing [ 7 80 26]\n",
      "slicing [ 7 43  6]\n",
      "Ventorization [ 78  12  21 129  18 240  15  63]\n",
      "element wise operation [52  8 14 86]\n",
      "Split [array([26,  4]), array([ 7, 43,  6]), array([80,  5, 21])]\n"
     ]
    }
   ],
   "source": [
    "import numpy as np\n",
    "a1=np.array([26,4,7,43,6,80,5,21])\n",
    "print('array',a1)\n",
    "print('size',a1.size)\n",
    "print('shape',a1.shape)\n",
    "print('sorting',np.sort(a1))\n",
    "print('Reverse',np.flip(a1))\n",
    "print('Dimension',a1.ndim)\n",
    "print('Type',type(a1))\n",
    "print('Indexing',a1[6])\n",
    "print('Fancy Indexing',a1[[2,5,0]])\n",
    "print('slicing',a1[2:5])\n",
    "print('Ventorization',a1*3)\n",
    "print('element wise operation',a1[:4]*2)\n",
    "print('Split',np.split(a1,[2,5]))"
   ]
  },
  {
   "cell_type": "markdown",
   "metadata": {},
   "source": [
    "# 2D"
   ]
  },
  {
   "cell_type": "code",
   "execution_count": 8,
   "metadata": {},
   "outputs": [
    {
     "name": "stdout",
     "output_type": "stream",
     "text": [
      "array [[[26  4  7]\n",
      "  [43  6 80]]\n",
      "\n",
      " [[ 5 21  6]\n",
      "  [ 5  1  0]]]\n",
      "size 12\n",
      "shape (2, 2, 3)\n",
      "sorting [[[ 4  7 26]\n",
      "  [ 6 43 80]]\n",
      "\n",
      " [[ 5  6 21]\n",
      "  [ 0  1  5]]]\n",
      "Reverse [[[ 0  1  5]\n",
      "  [ 6 21  5]]\n",
      "\n",
      " [[80  6 43]\n",
      "  [ 7  4 26]]]\n",
      "Dimension 3\n",
      "Type <class 'numpy.ndarray'>\n",
      "Indexing [[ 5 21  6]\n",
      " [ 5  1  0]]\n",
      "Fancy Indexing [[[26  4  7]\n",
      "  [43  6 80]]\n",
      "\n",
      " [[ 5 21  6]\n",
      "  [ 5  1  0]]]\n",
      "slicing [[[26  4  7]\n",
      "  [43  6 80]]\n",
      "\n",
      " [[ 5 21  6]\n",
      "  [ 5  1  0]]]\n",
      "Ventorization [[[ 78  12  21]\n",
      "  [129  18 240]]\n",
      "\n",
      " [[ 15  63  18]\n",
      "  [ 15   3   0]]]\n",
      "element wise operation [[[ 52   8  14]\n",
      "  [ 86  12 160]]\n",
      "\n",
      " [[ 10  42  12]\n",
      "  [ 10   2   0]]]\n"
     ]
    }
   ],
   "source": [
    "import numpy as np\n",
    "a2=np.array([[[26,4,7],[43,6,80]]\n",
    "            ,[[5,21,6],[5,1,0]]])\n",
    "print('array',a2)\n",
    "print('size',a2.size)\n",
    "print('shape',a2.shape)\n",
    "print('sorting',np.sort(a2))\n",
    "print('Reverse',np.flip(a2))\n",
    "print('Dimension',a2.ndim)\n",
    "print('Type',type(a2))\n",
    "print('Indexing',a2[1])\n",
    "print('Fancy Indexing',a2[[0,1]])\n",
    "print('slicing',a2[:2])\n",
    "print('Ventorization',a2*3)\n",
    "print('element wise operation',a2[:2]*2)"
   ]
  },
  {
   "cell_type": "code",
   "execution_count": null,
   "metadata": {},
   "outputs": [],
   "source": []
  }
 ],
 "metadata": {
  "kernelspec": {
   "display_name": "Python 3",
   "language": "python",
   "name": "python3"
  },
  "language_info": {
   "codemirror_mode": {
    "name": "ipython",
    "version": 3
   },
   "file_extension": ".py",
   "mimetype": "text/x-python",
   "name": "python",
   "nbconvert_exporter": "python",
   "pygments_lexer": "ipython3",
   "version": "3.7.3"
  }
 },
 "nbformat": 4,
 "nbformat_minor": 2
}

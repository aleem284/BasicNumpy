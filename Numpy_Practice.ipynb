{
 "cells": [
  {
   "cell_type": "markdown",
   "metadata": {},
   "source": [
    "# Basic Numpy Operation 1D"
   ]
  },
  {
   "cell_type": "code",
   "execution_count": 43,
   "metadata": {},
   "outputs": [
    {
     "name": "stdout",
     "output_type": "stream",
     "text": [
      "array [26  4  7 43  6 80  5 21]\n",
      "size 8\n",
      "shape (8,)\n",
      "sorting [ 4  5  6  7 21 26 43 80]\n",
      "Reverse [21  5 80  6 43  7  4 26]\n",
      "Dimension 1\n",
      "Type <class 'numpy.ndarray'>\n",
      "Indexing 5\n",
      "Fancy Indexing [ 7 80 26]\n",
      "slicing [ 7 43  6]\n",
      "Ventorization [ 78  12  21 129  18 240  15  63]\n",
      "element wise operation [52  8 14 86]\n",
      "Split [array([26,  4]), array([ 7, 43,  6]), array([80,  5, 21])]\n",
      "square_root [5.09901951 2.         2.64575131 6.55743852 2.44948974 8.94427191\n",
      " 2.23606798 4.58257569]\n",
      "exponent [1.95729609e+11 5.45981500e+01 1.09663316e+03 4.72783947e+18\n",
      " 4.03428793e+02 5.54062238e+34 1.48413159e+02 1.31881573e+09]\n",
      "absolute value [26  4  7 43  6 80  5 21]\n",
      "round off [26.  4.  7. 43.  6. 80.  5. 21.]\n"
     ]
    }
   ],
   "source": [
    "import numpy as np\n",
    "a1=np.array([26,4,7,43,6,80,5,21])\n",
    "print('array',a1)\n",
    "print('size',a1.size)\n",
    "print('shape',a1.shape)\n",
    "print('sorting',np.sort(a1))\n",
    "print('Reverse',np.flip(a1))\n",
    "print('Dimension',a1.ndim)\n",
    "print('Type',type(a1))\n",
    "print('Indexing',a1[6])\n",
    "print('Fancy Indexing',a1[[2,5,0]])\n",
    "print('slicing',a1[2:5])\n",
    "print('Ventorization',a1*3)\n",
    "print('element wise operation',a1[:4]*2)\n",
    "print('Split',np.split(a1,[2,5]))\n",
    "print('square_root',np.sqrt(a1))\n",
    "print('exponent',np.exp(a1)) #a1**any number (alternate method)\n",
    "print('absolute value',np.abs(a1))\n",
    "print('round off',np.rint(a1))\n"
   ]
  },
  {
   "cell_type": "markdown",
   "metadata": {},
   "source": [
    "# 2D"
   ]
  },
  {
   "cell_type": "code",
   "execution_count": 8,
   "metadata": {},
   "outputs": [
    {
     "name": "stdout",
     "output_type": "stream",
     "text": [
      "array [[[26  4  7]\n",
      "  [43  6 80]]\n",
      "\n",
      " [[ 5 21  6]\n",
      "  [ 5  1  0]]]\n",
      "size 12\n",
      "shape (2, 2, 3)\n",
      "sorting [[[ 4  7 26]\n",
      "  [ 6 43 80]]\n",
      "\n",
      " [[ 5  6 21]\n",
      "  [ 0  1  5]]]\n",
      "Reverse [[[ 0  1  5]\n",
      "  [ 6 21  5]]\n",
      "\n",
      " [[80  6 43]\n",
      "  [ 7  4 26]]]\n",
      "Dimension 3\n",
      "Type <class 'numpy.ndarray'>\n",
      "Indexing [[ 5 21  6]\n",
      " [ 5  1  0]]\n",
      "Fancy Indexing [[[26  4  7]\n",
      "  [43  6 80]]\n",
      "\n",
      " [[ 5 21  6]\n",
      "  [ 5  1  0]]]\n",
      "slicing [[[26  4  7]\n",
      "  [43  6 80]]\n",
      "\n",
      " [[ 5 21  6]\n",
      "  [ 5  1  0]]]\n",
      "Ventorization [[[ 78  12  21]\n",
      "  [129  18 240]]\n",
      "\n",
      " [[ 15  63  18]\n",
      "  [ 15   3   0]]]\n",
      "element wise operation [[[ 52   8  14]\n",
      "  [ 86  12 160]]\n",
      "\n",
      " [[ 10  42  12]\n",
      "  [ 10   2   0]]]\n"
     ]
    }
   ],
   "source": [
    "import numpy as np\n",
    "a2=np.array([[[26,4,7],[43,6,80]]\n",
    "            ,[[5,21,6],[5,1,0]]])\n",
    "print('array',a2)\n",
    "print('size',a2.size)\n",
    "print('shape',a2.shape)\n",
    "print('sorting',np.sort(a2))\n",
    "print('Reverse',np.flip(a2))\n",
    "print('Dimension',a2.ndim)\n",
    "print('Type',type(a2))\n",
    "print('Indexing',a2[1])\n",
    "print('Fancy Indexing',a2[[0,1]])\n",
    "print('slicing',a2[:2])\n",
    "print('Ventorization',a2*3)\n",
    "print('element wise operation',a2[:2]*2)"
   ]
  },
  {
   "cell_type": "markdown",
   "metadata": {},
   "source": [
    "# Text Spliting"
   ]
  },
  {
   "cell_type": "code",
   "execution_count": 10,
   "metadata": {},
   "outputs": [
    {
     "name": "stdout",
     "output_type": "stream",
     "text": [
      "<class 'numpy.ndarray'>\n",
      "['\"Here' 'are' 'some' 'of' 'the' 'things' 'you’ll' 'find' 'in' 'NumPy:'\n",
      " '•' 'ndarray,' 'an' 'efficient' 'multidimensional'] \n",
      " 43\n"
     ]
    }
   ],
   "source": [
    "import numpy as np\n",
    "txt = \"\"\"\"Here are some of the things you’ll find in NumPy:\n",
    "• ndarray, an efficient multidimensional array providing fast array-oriented arith‐\n",
    "metic operations and flexible broadcasting capabilities.\n",
    "• Mathematical functions for fast operations on entire arrays of data without hav‐\n",
    "ing to write loops.\"\"\"\"\"\n",
    "a3=np.array(txt.split())\n",
    "print(type(a3))\n",
    "print(a3[:15], '\\n',len(a3))"
   ]
  },
  {
   "cell_type": "markdown",
   "metadata": {},
   "source": [
    "# Arithmetic Operations on Arrays"
   ]
  },
  {
   "cell_type": "code",
   "execution_count": 45,
   "metadata": {},
   "outputs": [
    {
     "name": "stdout",
     "output_type": "stream",
     "text": [
      "[[ 7 11  6  9]\n",
      " [ 6  8  2  7]] \n",
      " [[ 5  7  0  1]\n",
      " [-4  2 -2  5]] \n",
      " [[ 6 18  9 20]\n",
      " [ 5 15  0  6]] \n",
      " [[6.         4.5        1.         1.25      ]\n",
      " [0.2        1.66666667 0.         6.        ]]\n",
      "[[6 9 3 5]\n",
      " [5 5 2 6]]\n",
      "[[1 2 3 4]\n",
      " [1 3 0 1]]\n"
     ]
    }
   ],
   "source": [
    "x=np.array([[6,9,3,5],[1,5,0,6]])\n",
    "y=np.array([[1,2,3,4],[5,3,2,1]])\n",
    "add = x+y\n",
    "sub=x-y\n",
    "mult=x*y\n",
    "div=x/y\n",
    "print(add,'\\n',sub,'\\n',mult,'\\n',div)\n",
    "print(np.maximum(x,y))\n",
    "print(np.minimum(x,y))"
   ]
  },
  {
   "cell_type": "markdown",
   "metadata": {},
   "source": [
    "# Boolean Array"
   ]
  },
  {
   "cell_type": "code",
   "execution_count": 17,
   "metadata": {},
   "outputs": [
    {
     "name": "stdout",
     "output_type": "stream",
     "text": [
      "[[False False  True False]\n",
      " [False False False False]]\n",
      "[[False  True False  True]\n",
      " [False False False False]]\n",
      "[11  9]\n"
     ]
    }
   ],
   "source": [
    "x=np.array([[6,9,3,5],[1,5,0,6]])\n",
    "y=np.array([[1,2,3,4],[5,3,2,1]])\n",
    "add = x+y\n",
    "boolean=(x==y)  #we use boolean array for filtering data\n",
    "# when we compare 2 arrays through equality operator '='. It goves us a Boolean array in return\n",
    "print(boolean)\n",
    "boolean=add>8\n",
    "\n",
    "arrayfilter1=boolean\n",
    "print(arrayfilter1)\n",
    "\n",
    "arrayfilter=add[boolean]\n",
    "print(arrayfilter)"
   ]
  },
  {
   "cell_type": "markdown",
   "metadata": {},
   "source": [
    "# Different Shapes of Array"
   ]
  },
  {
   "cell_type": "code",
   "execution_count": 71,
   "metadata": {},
   "outputs": [
    {
     "name": "stdout",
     "output_type": "stream",
     "text": [
      "[[[0. 0. 0. 0. 0.]\n",
      "  [0. 0. 0. 0. 0.]\n",
      "  [0. 0. 0. 0. 0.]]\n",
      "\n",
      " [[0. 0. 0. 0. 0.]\n",
      "  [0. 0. 0. 0. 0.]\n",
      "  [0. 0. 0. 0. 0.]]]\n",
      "(2, 3, 5)\n",
      "30\n",
      "3\n",
      "[0. 0. 0. 0. 0. 0. 0. 0. 0. 0. 0. 0. 0. 0. 0. 0. 0. 0. 0. 0. 0. 0. 0. 0.\n",
      " 0. 0. 0. 0. 0. 0.]\n"
     ]
    },
    {
     "data": {
      "text/plain": [
       "array([0., 0., 0., 0., 0., 0., 0., 0., 0., 0., 0., 0., 0., 0., 0., 0., 0.,\n",
       "       0., 0., 0., 0., 0., 0., 0., 0., 0., 0., 0., 0., 0.])"
      ]
     },
     "execution_count": 71,
     "metadata": {},
     "output_type": "execute_result"
    }
   ],
   "source": [
    "a4=np.zeros([2,3,5])\n",
    "print(a4)\n",
    "print(a4.shape)\n",
    "print(a4.size)\n",
    "print(a4.ndim)\n",
    "print(a4.ravel())\n",
    "printa4.flatten()"
   ]
  },
  {
   "cell_type": "code",
   "execution_count": 34,
   "metadata": {},
   "outputs": [
    {
     "data": {
      "text/plain": [
       "array([[[[3., 3., 3., 3., 3.],\n",
       "         [3., 3., 3., 3., 3.],\n",
       "         [3., 3., 3., 3., 3.],\n",
       "         [3., 3., 3., 3., 3.]],\n",
       "\n",
       "        [[3., 3., 3., 3., 3.],\n",
       "         [3., 3., 3., 3., 3.],\n",
       "         [3., 3., 3., 3., 3.],\n",
       "         [3., 3., 3., 3., 3.]],\n",
       "\n",
       "        [[3., 3., 3., 3., 3.],\n",
       "         [3., 3., 3., 3., 3.],\n",
       "         [3., 3., 3., 3., 3.],\n",
       "         [3., 3., 3., 3., 3.]]],\n",
       "\n",
       "\n",
       "       [[[3., 3., 3., 3., 3.],\n",
       "         [3., 3., 3., 3., 3.],\n",
       "         [3., 3., 3., 3., 3.],\n",
       "         [3., 3., 3., 3., 3.]],\n",
       "\n",
       "        [[3., 3., 3., 3., 3.],\n",
       "         [3., 3., 3., 3., 3.],\n",
       "         [3., 3., 3., 3., 3.],\n",
       "         [3., 3., 3., 3., 3.]],\n",
       "\n",
       "        [[3., 3., 3., 3., 3.],\n",
       "         [3., 3., 3., 3., 3.],\n",
       "         [3., 3., 3., 3., 3.],\n",
       "         [3., 3., 3., 3., 3.]]]])"
      ]
     },
     "execution_count": 34,
     "metadata": {},
     "output_type": "execute_result"
    }
   ],
   "source": [
    "a4.fill(3)\n",
    "a4"
   ]
  },
  {
   "cell_type": "code",
   "execution_count": 41,
   "metadata": {},
   "outputs": [
    {
     "data": {
      "text/plain": [
       "array([[[[3., 3., 3., 3., 3.],\n",
       "         [3., 3., 3., 3., 3.],\n",
       "         [3., 3., 3., 3., 3.],\n",
       "         [3., 3., 3., 3., 3.]],\n",
       "\n",
       "        [[3., 3., 3., 3., 3.],\n",
       "         [3., 3., 3., 3., 3.],\n",
       "         [3., 3., 3., 3., 3.],\n",
       "         [3., 3., 3., 3., 3.]],\n",
       "\n",
       "        [[3., 3., 3., 3., 3.],\n",
       "         [3., 3., 3., 3., 3.],\n",
       "         [3., 3., 3., 3., 3.],\n",
       "         [1., 9., 9., 9., 9.]]],\n",
       "\n",
       "\n",
       "       [[[3., 3., 3., 3., 3.],\n",
       "         [3., 3., 3., 3., 3.],\n",
       "         [3., 3., 3., 3., 3.],\n",
       "         [3., 3., 3., 3., 3.]],\n",
       "\n",
       "        [[3., 3., 3., 3., 3.],\n",
       "         [3., 3., 3., 3., 3.],\n",
       "         [3., 3., 3., 3., 3.],\n",
       "         [3., 3., 3., 3., 3.]],\n",
       "\n",
       "        [[3., 3., 3., 3., 3.],\n",
       "         [3., 3., 3., 3., 3.],\n",
       "         [3., 3., 3., 3., 3.],\n",
       "         [3., 3., 3., 3., 3.]]]])"
      ]
     },
     "execution_count": 41,
     "metadata": {},
     "output_type": "execute_result"
    }
   ],
   "source": [
    "a4[0,2,3,0]=1 #0 indicates 0 n 1 index then2 indicates 0 1 2 index then3 indicates 0 1 2 3 index and then last 0 indicates 0 1 2  3 4 index\n",
    "a4"
   ]
  },
  {
   "cell_type": "code",
   "execution_count": 81,
   "metadata": {},
   "outputs": [
    {
     "name": "stdout",
     "output_type": "stream",
     "text": [
      "[[[0.57599622 0.07224621]\n",
      "  [0.59371462 0.09980974]\n",
      "  [0.16611594 0.33463599]\n",
      "  [0.70392147 0.04109214]\n",
      "  [0.26590773 0.37658154]]\n",
      "\n",
      " [[0.48949418 0.0664758 ]\n",
      "  [0.72049693 0.96858562]\n",
      "  [0.89560853 0.93220164]\n",
      "  [0.66926423 0.77915128]\n",
      "  [0.48041599 0.13389517]]\n",
      "\n",
      " [[0.30356262 0.32553491]\n",
      "  [0.0301912  0.98292973]\n",
      "  [0.71236202 0.19369329]\n",
      "  [0.67766605 0.71344668]\n",
      "  [0.23810005 0.959025  ]]\n",
      "\n",
      " [[0.57043414 0.8564727 ]\n",
      "  [0.21788302 0.76742535]\n",
      "  [0.56877135 0.23894033]\n",
      "  [0.71217317 0.78826656]\n",
      "  [0.80308029 0.88413055]]\n",
      "\n",
      " [[0.43188915 0.22290378]\n",
      "  [0.86715082 0.29803628]\n",
      "  [0.98968894 0.63611182]\n",
      "  [0.91295475 0.1855911 ]\n",
      "  [0.55577951 0.40036513]]]\n",
      "(5, 5, 2)\n",
      "3\n",
      "[[0.57599622 0.07224621]\n",
      " [0.59371462 0.09980974]\n",
      " [0.16611594 0.33463599]\n",
      " [0.70392147 0.04109214]\n",
      " [0.26590773 0.37658154]\n",
      " [0.48949418 0.0664758 ]\n",
      " [0.72049693 0.96858562]\n",
      " [0.89560853 0.93220164]\n",
      " [0.66926423 0.77915128]\n",
      " [0.48041599 0.13389517]\n",
      " [0.30356262 0.32553491]\n",
      " [0.0301912  0.98292973]\n",
      " [0.71236202 0.19369329]\n",
      " [0.67766605 0.71344668]\n",
      " [0.23810005 0.959025  ]\n",
      " [0.57043414 0.8564727 ]\n",
      " [0.21788302 0.76742535]\n",
      " [0.56877135 0.23894033]\n",
      " [0.71217317 0.78826656]\n",
      " [0.80308029 0.88413055]\n",
      " [0.43188915 0.22290378]\n",
      " [0.86715082 0.29803628]\n",
      " [0.98968894 0.63611182]\n",
      " [0.91295475 0.1855911 ]\n",
      " [0.55577951 0.40036513]]\n",
      "(25, 2)\n",
      "50\n"
     ]
    }
   ],
   "source": [
    "a5=np.random.rand(5,5,2)\n",
    "print(a5)\n",
    "print(a5.shape)\n",
    "print(a5.ndim)\n",
    "a5.flatten()\n",
    "r=a5.reshape(25,2)\n",
    "print(r)\n",
    "print(r.shape)\n",
    "print(r.size)"
   ]
  },
  {
   "cell_type": "code",
   "execution_count": 59,
   "metadata": {},
   "outputs": [
    {
     "data": {
      "text/plain": [
       "array([[0.98139525, 0.08255405, 0.88253804, 0.473489  , 0.99945558],\n",
       "       [0.23214432, 0.88587875, 0.3750585 , 0.83735347, 0.84249864],\n",
       "       [0.28097963, 0.96116615, 0.61006715, 0.10074896, 0.557611  ],\n",
       "       [0.02658959, 0.00590639, 0.99342252, 0.59772761, 0.44875111],\n",
       "       [0.98566183, 0.03217617, 0.72827979, 0.18269968, 0.47875316]])"
      ]
     },
     "execution_count": 59,
     "metadata": {},
     "output_type": "execute_result"
    }
   ],
   "source": [
    "np.random.shuffle(a5)\n",
    "a5\n"
   ]
  },
  {
   "cell_type": "code",
   "execution_count": 60,
   "metadata": {},
   "outputs": [
    {
     "data": {
      "text/plain": [
       "array([ 0,  1,  2,  3,  4,  5,  6,  7,  8,  9, 10, 11, 12, 13, 14])"
      ]
     },
     "execution_count": 60,
     "metadata": {},
     "output_type": "execute_result"
    }
   ],
   "source": [
    "a6=np.arange(15)\n",
    "a6"
   ]
  },
  {
   "cell_type": "code",
   "execution_count": 63,
   "metadata": {},
   "outputs": [
    {
     "data": {
      "text/plain": [
       "array([0.98139525, 0.08255405, 0.88253804, 0.473489  , 0.99945558,\n",
       "       0.23214432, 0.88587875, 0.3750585 , 0.83735347, 0.84249864,\n",
       "       0.28097963, 0.96116615, 0.61006715, 0.10074896, 0.557611  ,\n",
       "       0.02658959, 0.00590639, 0.99342252, 0.59772761, 0.44875111,\n",
       "       0.98566183, 0.03217617, 0.72827979, 0.18269968, 0.47875316])"
      ]
     },
     "execution_count": 63,
     "metadata": {},
     "output_type": "execute_result"
    }
   ],
   "source": [
    "a5.ravel()"
   ]
  },
  {
   "cell_type": "code",
   "execution_count": 85,
   "metadata": {},
   "outputs": [
    {
     "name": "stdout",
     "output_type": "stream",
     "text": [
      "[[0.4359949  0.02592623 0.54966248]\n",
      " [0.43532239 0.4203678  0.33033482]\n",
      " [0.20464863 0.61927097 0.29965467]]\n"
     ]
    }
   ],
   "source": [
    "np.random.seed(2)\n",
    "print(np.random.rand(3,3))\n"
   ]
  },
  {
   "cell_type": "markdown",
   "metadata": {},
   "source": [
    "# Transpose and Swapping Axes"
   ]
  },
  {
   "cell_type": "code",
   "execution_count": 125,
   "metadata": {},
   "outputs": [
    {
     "data": {
      "text/plain": [
       "array([[0.59604912, 0.09190485, 0.89560999, 0.46227594],\n",
       "       [0.44481236, 0.1047113 , 0.68490404, 0.81689399],\n",
       "       [0.62955017, 0.24202261, 0.78542072, 0.14567943],\n",
       "       [0.82727633, 0.58070537, 0.28937281, 0.5132434 ]])"
      ]
     },
     "execution_count": 125,
     "metadata": {},
     "output_type": "execute_result"
    }
   ],
   "source": [
    "import numpy as np\n",
    "a8=np.random.rand(4,4)\n",
    "a8"
   ]
  },
  {
   "cell_type": "code",
   "execution_count": 126,
   "metadata": {},
   "outputs": [
    {
     "data": {
      "text/plain": [
       "array([[0.59604912, 0.44481236, 0.62955017, 0.82727633],\n",
       "       [0.09190485, 0.1047113 , 0.24202261, 0.58070537],\n",
       "       [0.89560999, 0.68490404, 0.78542072, 0.28937281],\n",
       "       [0.46227594, 0.81689399, 0.14567943, 0.5132434 ]])"
      ]
     },
     "execution_count": 126,
     "metadata": {},
     "output_type": "execute_result"
    }
   ],
   "source": [
    "a8.T"
   ]
  },
  {
   "cell_type": "code",
   "execution_count": 127,
   "metadata": {},
   "outputs": [
    {
     "data": {
      "text/plain": [
       "array([[6., 6., 6., 6.],\n",
       "       [6., 6., 6., 6.],\n",
       "       [6., 6., 6., 6.],\n",
       "       [6., 6., 6., 6.]])"
      ]
     },
     "execution_count": 127,
     "metadata": {},
     "output_type": "execute_result"
    }
   ],
   "source": [
    "a8.fill(6)\n",
    "a8"
   ]
  },
  {
   "cell_type": "code",
   "execution_count": 128,
   "metadata": {},
   "outputs": [
    {
     "data": {
      "text/plain": [
       "array([[[6., 6.],\n",
       "        [6., 6.]],\n",
       "\n",
       "       [[6., 6.],\n",
       "        [6., 6.]],\n",
       "\n",
       "       [[6., 6.],\n",
       "        [6., 6.]],\n",
       "\n",
       "       [[6., 6.],\n",
       "        [6., 6.]]])"
      ]
     },
     "execution_count": 128,
     "metadata": {},
     "output_type": "execute_result"
    }
   ],
   "source": [
    "a9=a8.reshape(4,2,2)\n",
    "a9"
   ]
  },
  {
   "cell_type": "code",
   "execution_count": 150,
   "metadata": {},
   "outputs": [
    {
     "data": {
      "text/plain": [
       "array([[[6., 6.],\n",
       "        [6., 6.],\n",
       "        [6., 6.],\n",
       "        [6., 6.]],\n",
       "\n",
       "       [[6., 6.],\n",
       "        [6., 6.],\n",
       "        [6., 6.],\n",
       "        [6., 6.]]])"
      ]
     },
     "execution_count": 150,
     "metadata": {},
     "output_type": "execute_result"
    }
   ],
   "source": [
    "a9.swapaxes(1,0)\n"
   ]
  },
  {
   "cell_type": "code",
   "execution_count": 147,
   "metadata": {},
   "outputs": [
    {
     "data": {
      "text/plain": [
       "array([[[6., 6.],\n",
       "        [6., 6.],\n",
       "        [6., 6.],\n",
       "        [6., 6.]],\n",
       "\n",
       "       [[6., 6.],\n",
       "        [6., 6.],\n",
       "        [6., 6.],\n",
       "        [6., 6.]]])"
      ]
     },
     "execution_count": 147,
     "metadata": {},
     "output_type": "execute_result"
    }
   ],
   "source": [
    "a9.transpose(1,0,2)"
   ]
  },
  {
   "cell_type": "code",
   "execution_count": 22,
   "metadata": {},
   "outputs": [
    {
     "data": {
      "text/plain": [
       "array([[[[1., 1., 1., 1., 1.],\n",
       "         [1., 1., 1., 1., 1.]],\n",
       "\n",
       "        [[1., 1., 1., 1., 1.],\n",
       "         [1., 1., 1., 1., 1.]],\n",
       "\n",
       "        [[1., 1., 1., 1., 1.],\n",
       "         [1., 1., 1., 1., 1.]],\n",
       "\n",
       "        [[1., 1., 1., 1., 1.],\n",
       "         [1., 1., 1., 1., 1.]]],\n",
       "\n",
       "\n",
       "       [[[1., 1., 1., 1., 1.],\n",
       "         [1., 1., 1., 1., 1.]],\n",
       "\n",
       "        [[1., 1., 1., 1., 1.],\n",
       "         [1., 1., 1., 1., 1.]],\n",
       "\n",
       "        [[1., 1., 1., 1., 1.],\n",
       "         [1., 1., 1., 1., 1.]],\n",
       "\n",
       "        [[1., 1., 1., 1., 1.],\n",
       "         [1., 1., 1., 1., 1.]]],\n",
       "\n",
       "\n",
       "       [[[1., 1., 1., 1., 1.],\n",
       "         [1., 1., 1., 1., 1.]],\n",
       "\n",
       "        [[1., 1., 1., 1., 1.],\n",
       "         [1., 1., 1., 1., 1.]],\n",
       "\n",
       "        [[1., 1., 1., 1., 1.],\n",
       "         [1., 1., 1., 1., 1.]],\n",
       "\n",
       "        [[1., 1., 1., 1., 1.],\n",
       "         [1., 1., 1., 1., 1.]]]])"
      ]
     },
     "execution_count": 22,
     "metadata": {},
     "output_type": "execute_result"
    }
   ],
   "source": [
    "a11=np.ones([3,4,2,5])\n",
    "\n",
    "a11"
   ]
  },
  {
   "cell_type": "code",
   "execution_count": 30,
   "metadata": {},
   "outputs": [
    {
     "data": {
      "text/plain": [
       "array([[[6, 1],\n",
       "        [9, 5],\n",
       "        [3, 0],\n",
       "        [5, 6]],\n",
       "\n",
       "       [[1, 5],\n",
       "        [2, 3],\n",
       "        [3, 2],\n",
       "        [4, 1]]])"
      ]
     },
     "execution_count": 30,
     "metadata": {},
     "output_type": "execute_result"
    }
   ],
   "source": [
    "a12=np.array([[[6,9,3,5],[1,5,0,6]],\n",
    "             [[1,2,3,4],[5,3,2,1]]])\n",
    "a12.transpose((0,2,1))  #Here 1 2 0 are axeses"
   ]
  },
  {
   "cell_type": "code",
   "execution_count": 40,
   "metadata": {},
   "outputs": [
    {
     "name": "stdout",
     "output_type": "stream",
     "text": [
      "[1. 3.]\n"
     ]
    }
   ],
   "source": [
    "a13=np.array([1.1,2.7])\n",
    "print(np.rint(a13)) #Round off"
   ]
  },
  {
   "cell_type": "markdown",
   "metadata": {},
   "source": [
    "# Filing"
   ]
  },
  {
   "cell_type": "code",
   "execution_count": 101,
   "metadata": {},
   "outputs": [
    {
     "data": {
      "text/plain": [
       "array([9, 8, 6, 5])"
      ]
     },
     "execution_count": 101,
     "metadata": {},
     "output_type": "execute_result"
    }
   ],
   "source": [
    "import numpy as np\n",
    "x=[1,2,3,4]\n",
    "y=[9,8,6,5]\n",
    "np.save('Demofile',y)\n",
    "load=np.load('Demofile.npy')\n",
    "load"
   ]
  },
  {
   "cell_type": "code",
   "execution_count": 103,
   "metadata": {},
   "outputs": [
    {
     "data": {
      "text/plain": [
       "<numpy.lib.npyio.NpzFile at 0x3f74b24898>"
      ]
     },
     "execution_count": 103,
     "metadata": {},
     "output_type": "execute_result"
    }
   ],
   "source": [
    "np.savez('Demofilexy',x,y)\n",
    "loadxy=np.load('Demofilexy.npz')\n",
    "loadxy\n",
    "\n",
    "\n"
   ]
  },
  {
   "cell_type": "markdown",
   "metadata": {},
   "source": [
    "# Split Function in 2D "
   ]
  },
  {
   "cell_type": "code",
   "execution_count": 30,
   "metadata": {},
   "outputs": [
    {
     "data": {
      "text/plain": [
       "[array([[ 3],\n",
       "        [23]]), array([[ 4,  7],\n",
       "        [24, 27]]), array([[ 9,  1],\n",
       "        [29, 21]])]"
      ]
     },
     "execution_count": 30,
     "metadata": {},
     "output_type": "execute_result"
    }
   ],
   "source": [
    "z=[[3,4,7,9,1],[23,24,27,29,21]]\n",
    "a14=np.array(z)\n",
    "np.split(a14,[1,3],axis=1)\n"
   ]
  },
  {
   "cell_type": "code",
   "execution_count": 31,
   "metadata": {},
   "outputs": [
    {
     "data": {
      "text/plain": [
       "[array([[3, 4, 7, 9, 1]]),\n",
       " array([[23, 24, 27, 29, 21]]),\n",
       " array([], shape=(0, 5), dtype=int32)]"
      ]
     },
     "execution_count": 31,
     "metadata": {},
     "output_type": "execute_result"
    }
   ],
   "source": [
    "np.split(a14,[1,3],axis=0)"
   ]
  },
  {
   "cell_type": "markdown",
   "metadata": {},
   "source": [
    "# Repeat and Tile"
   ]
  },
  {
   "cell_type": "code",
   "execution_count": 32,
   "metadata": {},
   "outputs": [
    {
     "data": {
      "text/plain": [
       "array([5, 5, 5, 5, 8, 8, 8, 8, 2, 2, 2, 2])"
      ]
     },
     "execution_count": 32,
     "metadata": {},
     "output_type": "execute_result"
    }
   ],
   "source": [
    "a15=np.array([5,8,2])\n",
    "np.repeat(a15,4)"
   ]
  },
  {
   "cell_type": "code",
   "execution_count": 33,
   "metadata": {},
   "outputs": [
    {
     "data": {
      "text/plain": [
       "array([5, 8, 2, 5, 8, 2, 5, 8, 2])"
      ]
     },
     "execution_count": 33,
     "metadata": {},
     "output_type": "execute_result"
    }
   ],
   "source": [
    "np.tile(a15,3)"
   ]
  },
  {
   "cell_type": "markdown",
   "metadata": {},
   "source": [
    "# Concatenation"
   ]
  },
  {
   "cell_type": "code",
   "execution_count": 38,
   "metadata": {},
   "outputs": [
    {
     "data": {
      "text/plain": [
       "array([[1, 2, 9, 8],\n",
       "       [3, 4, 6, 5]])"
      ]
     },
     "execution_count": 38,
     "metadata": {},
     "output_type": "execute_result"
    }
   ],
   "source": [
    "x=np.array([[1,2],[3,4]])\n",
    "y=np.array([[9,8],[6,5]])\n",
    "np.concatenate((x,y),axis=1) #column wise concatenate"
   ]
  },
  {
   "cell_type": "code",
   "execution_count": 39,
   "metadata": {},
   "outputs": [
    {
     "data": {
      "text/plain": [
       "array([[1, 2],\n",
       "       [3, 4],\n",
       "       [9, 8],\n",
       "       [6, 5]])"
      ]
     },
     "execution_count": 39,
     "metadata": {},
     "output_type": "execute_result"
    }
   ],
   "source": [
    "np.concatenate((x,y),axis=0) #Row wise concatenate"
   ]
  },
  {
   "cell_type": "code",
   "execution_count": 40,
   "metadata": {},
   "outputs": [
    {
     "data": {
      "text/plain": [
       "array([[1, 2, 9, 8],\n",
       "       [3, 4, 6, 5]])"
      ]
     },
     "execution_count": 40,
     "metadata": {},
     "output_type": "execute_result"
    }
   ],
   "source": [
    "np.hstack((x,y)) #Column wise concatenate"
   ]
  },
  {
   "cell_type": "code",
   "execution_count": 41,
   "metadata": {},
   "outputs": [
    {
     "data": {
      "text/plain": [
       "array([[1, 2],\n",
       "       [3, 4],\n",
       "       [9, 8],\n",
       "       [6, 5]])"
      ]
     },
     "execution_count": 41,
     "metadata": {},
     "output_type": "execute_result"
    }
   ],
   "source": [
    "np.vstack((x,y)) #Row wise concatenate"
   ]
  },
  {
   "cell_type": "code",
   "execution_count": 42,
   "metadata": {},
   "outputs": [
    {
     "name": "stdout",
     "output_type": "stream",
     "text": [
      "[[0.03836976 0.79545161 0.77789848 0.38135509]\n",
      " [0.78354    0.15645819 0.74006714 0.88853763]\n",
      " [0.32374987 0.85688583 0.04034633 0.34992445]]\n"
     ]
    }
   ],
   "source": [
    "a16=np.random.rand(3,4)\n",
    "print(a16)"
   ]
  },
  {
   "cell_type": "markdown",
   "metadata": {},
   "source": [
    "# Reshape"
   ]
  },
  {
   "cell_type": "code",
   "execution_count": 46,
   "metadata": {},
   "outputs": [
    {
     "data": {
      "text/plain": [
       "array([[[0.03836976, 0.77789848],\n",
       "        [0.79545161, 0.38135509]],\n",
       "\n",
       "       [[0.78354   , 0.74006714],\n",
       "        [0.15645819, 0.88853763]],\n",
       "\n",
       "       [[0.32374987, 0.04034633],\n",
       "        [0.85688583, 0.34992445]]])"
      ]
     },
     "execution_count": 46,
     "metadata": {},
     "output_type": "execute_result"
    }
   ],
   "source": [
    "a16.reshape(3,2,2,order='F') # F represent fortran that is column wise operation"
   ]
  },
  {
   "cell_type": "code",
   "execution_count": 45,
   "metadata": {},
   "outputs": [
    {
     "data": {
      "text/plain": [
       "array([[[0.03836976, 0.79545161],\n",
       "        [0.77789848, 0.38135509]],\n",
       "\n",
       "       [[0.78354   , 0.15645819],\n",
       "        [0.74006714, 0.88853763]],\n",
       "\n",
       "       [[0.32374987, 0.85688583],\n",
       "        [0.04034633, 0.34992445]]])"
      ]
     },
     "execution_count": 45,
     "metadata": {},
     "output_type": "execute_result"
    }
   ],
   "source": [
    "a16.reshape(3,2,-1,order='C') #C represnt row wise operation and -1 generates its own value in reshaping"
   ]
  },
  {
   "cell_type": "markdown",
   "metadata": {},
   "source": [
    "# Pseudo Random Number"
   ]
  },
  {
   "cell_type": "code",
   "execution_count": 89,
   "metadata": {},
   "outputs": [
    {
     "data": {
      "text/plain": [
       "array([[0.07630829, 0.77991879, 0.43840923, 0.72346518, 0.97798951],\n",
       "       [0.53849587, 0.50112046, 0.07205113, 0.26843898, 0.4998825 ]])"
      ]
     },
     "execution_count": 89,
     "metadata": {},
     "output_type": "execute_result"
    }
   ],
   "source": [
    "import numpy as np\n",
    "np.random.seed(7)\n",
    "np.random.rand(2,5)\n"
   ]
  },
  {
   "cell_type": "code",
   "execution_count": 88,
   "metadata": {},
   "outputs": [
    {
     "data": {
      "text/plain": [
       "array([[-0.62542897, -0.17154826,  0.50529937, -0.26135642],\n",
       "       [-0.24274908, -1.45324141,  0.55458031,  0.12388091],\n",
       "       [ 0.27445992, -1.52652453,  1.65069969,  0.15433554],\n",
       "       [-0.38713994,  2.02907222, -0.04538603, -1.4506787 ]])"
      ]
     },
     "execution_count": 88,
     "metadata": {},
     "output_type": "execute_result"
    }
   ],
   "source": [
    "np.random.normal(size=(4,4)) #It generates normal given input array"
   ]
  },
  {
   "cell_type": "code",
   "execution_count": 20,
   "metadata": {},
   "outputs": [
    {
     "data": {
      "text/plain": [
       "4.961429659589471"
      ]
     },
     "execution_count": 20,
     "metadata": {},
     "output_type": "execute_result"
    }
   ],
   "source": [
    "np.random.gamma(6)"
   ]
  },
  {
   "cell_type": "code",
   "execution_count": 81,
   "metadata": {},
   "outputs": [
    {
     "data": {
      "text/plain": [
       "5.707210660476099"
      ]
     },
     "execution_count": 81,
     "metadata": {},
     "output_type": "execute_result"
    }
   ],
   "source": [
    "np.random.uniform(3,8) #This function returns a floating point random number between two parameters."
   ]
  },
  {
   "cell_type": "code",
   "execution_count": 82,
   "metadata": {},
   "outputs": [
    {
     "data": {
      "text/plain": [
       "16"
      ]
     },
     "execution_count": 82,
     "metadata": {},
     "output_type": "execute_result"
    }
   ],
   "source": [
    "np.random.randint(5,20)   #It generates the random number between the given range that is 5 to 20 \n",
    "#random.randint(start,end)"
   ]
  },
  {
   "cell_type": "code",
   "execution_count": 68,
   "metadata": {},
   "outputs": [
    {
     "data": {
      "text/plain": [
       "12"
      ]
     },
     "execution_count": 68,
     "metadata": {},
     "output_type": "execute_result"
    }
   ],
   "source": [
    "np.random.choice(range(50)) #This function picks a random number from the range. If the sequence is empty, IndexError is thrown.\n"
   ]
  },
  {
   "cell_type": "code",
   "execution_count": 69,
   "metadata": {},
   "outputs": [
    {
     "data": {
      "text/plain": [
       "5"
      ]
     },
     "execution_count": 69,
     "metadata": {},
     "output_type": "execute_result"
    }
   ],
   "source": [
    "np.random.choice([2,5,8,0,1,6,7])  #This function picks a random element from the sequence. If the sequence is empty, IndexError is thrown."
   ]
  },
  {
   "cell_type": "code",
   "execution_count": 78,
   "metadata": {},
   "outputs": [
    {
     "data": {
      "text/plain": [
       "[76, 6, 45, 11, 23, 0, 1]"
      ]
     },
     "execution_count": 78,
     "metadata": {},
     "output_type": "execute_result"
    }
   ],
   "source": [
    "r=[23,45,76,1,0,6,11] #This function reorders elements in a mutable sequence and places them randomly.\n",
    "np.random.shuffle(r)\n",
    "r"
   ]
  },
  {
   "cell_type": "code",
   "execution_count": 83,
   "metadata": {},
   "outputs": [
    {
     "data": {
      "text/plain": [
       "0.4036485763523965"
      ]
     },
     "execution_count": 83,
     "metadata": {},
     "output_type": "execute_result"
    }
   ],
   "source": [
    "np.random.random() #it genrates the floating number between 0 to 1"
   ]
  },
  {
   "cell_type": "markdown",
   "metadata": {},
   "source": [
    "# Linear Algebra Function"
   ]
  },
  {
   "cell_type": "code",
   "execution_count": 92,
   "metadata": {},
   "outputs": [],
   "source": [
    "a18=np.random.rand(3,4)\n",
    "a19=np.random.rand(4,3)"
   ]
  },
  {
   "cell_type": "code",
   "execution_count": 93,
   "metadata": {},
   "outputs": [
    {
     "data": {
      "text/plain": [
       "array([[0.92450756, 0.84385601, 1.02252908],\n",
       "       [1.11754439, 1.03618163, 1.0115703 ],\n",
       "       [0.9054396 , 1.05110557, 0.95222567]])"
      ]
     },
     "execution_count": 93,
     "metadata": {},
     "output_type": "execute_result"
    }
   ],
   "source": [
    "a18.dot(a19)"
   ]
  },
  {
   "cell_type": "code",
   "execution_count": 94,
   "metadata": {},
   "outputs": [
    {
     "data": {
      "text/plain": [
       "array([0.66901324, 0.47740115, 0.57262533])"
      ]
     },
     "execution_count": 94,
     "metadata": {},
     "output_type": "execute_result"
    }
   ],
   "source": [
    "a18.diagonal()"
   ]
  },
  {
   "cell_type": "code",
   "execution_count": 98,
   "metadata": {},
   "outputs": [
    {
     "name": "stdout",
     "output_type": "stream",
     "text": [
      "[[0.45284293 0.35297837 0.65739946]\n",
      " [0.37035108 0.45909298 0.71932412]\n",
      " [0.41299183 0.90642327 0.18045162]\n",
      " [0.74111887 0.42237404 0.42645357]]\n"
     ]
    },
    {
     "data": {
      "text/plain": [
       "array([[0.45284293, 0.37035108, 0.41299183, 0.74111887],\n",
       "       [0.35297837, 0.45909298, 0.90642327, 0.42237404],\n",
       "       [0.65739946, 0.71932412, 0.18045162, 0.42645357]])"
      ]
     },
     "execution_count": 98,
     "metadata": {},
     "output_type": "execute_result"
    }
   ],
   "source": [
    "print(a19)\n",
    "a19.transpose()"
   ]
  },
  {
   "cell_type": "code",
   "execution_count": 99,
   "metadata": {},
   "outputs": [
    {
     "name": "stdout",
     "output_type": "stream",
     "text": [
      "[[0.45284293 0.35297837 0.65739946]\n",
      " [0.37035108 0.45909298 0.71932412]\n",
      " [0.41299183 0.90642327 0.18045162]\n",
      " [0.74111887 0.42237404 0.42645357]]\n"
     ]
    },
    {
     "data": {
      "text/plain": [
       "array([[0.45284293, 0.37035108, 0.41299183, 0.74111887],\n",
       "       [0.35297837, 0.45909298, 0.90642327, 0.42237404],\n",
       "       [0.65739946, 0.71932412, 0.18045162, 0.42645357]])"
      ]
     },
     "execution_count": 99,
     "metadata": {},
     "output_type": "execute_result"
    }
   ],
   "source": [
    "print(a19)\n",
    "a19.T"
   ]
  },
  {
   "cell_type": "code",
   "execution_count": 112,
   "metadata": {},
   "outputs": [
    {
     "name": "stdout",
     "output_type": "stream",
     "text": [
      "[[[0.65012833 0.59562111 0.75195356 0.06166533]\n",
      "  [0.74482367 0.94627593 0.60355955 0.28757994]\n",
      "  [0.67236922 0.71204879 0.65645029 0.14693032]]\n",
      "\n",
      " [[0.97347557 0.95538345 0.42462553 0.59363733]\n",
      "  [0.03962857 0.98863433 0.81874499 0.63650234]\n",
      "  [0.76108474 0.18802993 0.30765459 0.24639364]]]\n"
     ]
    },
    {
     "data": {
      "text/plain": [
       "array([[[0.65012833, 0.97347557],\n",
       "        [0.74482367, 0.03962857],\n",
       "        [0.67236922, 0.76108474]],\n",
       "\n",
       "       [[0.59562111, 0.95538345],\n",
       "        [0.94627593, 0.98863433],\n",
       "        [0.71204879, 0.18802993]],\n",
       "\n",
       "       [[0.75195356, 0.42462553],\n",
       "        [0.60355955, 0.81874499],\n",
       "        [0.65645029, 0.30765459]],\n",
       "\n",
       "       [[0.06166533, 0.59363733],\n",
       "        [0.28757994, 0.63650234],\n",
       "        [0.14693032, 0.24639364]]])"
      ]
     },
     "execution_count": 112,
     "metadata": {},
     "output_type": "execute_result"
    }
   ],
   "source": [
    "a20=np.random.rand(2,3,4)\n",
    "print(a20)\n",
    "a20.T"
   ]
  },
  {
   "cell_type": "code",
   "execution_count": 124,
   "metadata": {},
   "outputs": [
    {
     "data": {
      "text/plain": [
       "array([[[0.65012833, 0.74482367, 0.67236922],\n",
       "        [0.59562111, 0.94627593, 0.71204879],\n",
       "        [0.75195356, 0.60355955, 0.65645029],\n",
       "        [0.06166533, 0.28757994, 0.14693032]],\n",
       "\n",
       "       [[0.97347557, 0.03962857, 0.76108474],\n",
       "        [0.95538345, 0.98863433, 0.18802993],\n",
       "        [0.42462553, 0.81874499, 0.30765459],\n",
       "        [0.59363733, 0.63650234, 0.24639364]]])"
      ]
     },
     "execution_count": 124,
     "metadata": {},
     "output_type": "execute_result"
    }
   ],
   "source": [
    "a20.transpose(0,2,1)"
   ]
  },
  {
   "cell_type": "code",
   "execution_count": 151,
   "metadata": {},
   "outputs": [
    {
     "data": {
      "text/plain": [
       "array([[[0.65012833, 0.59562111, 0.75195356, 0.06166533],\n",
       "        [0.97347557, 0.95538345, 0.42462553, 0.59363733]],\n",
       "\n",
       "       [[0.74482367, 0.94627593, 0.60355955, 0.28757994],\n",
       "        [0.03962857, 0.98863433, 0.81874499, 0.63650234]],\n",
       "\n",
       "       [[0.67236922, 0.71204879, 0.65645029, 0.14693032],\n",
       "        [0.76108474, 0.18802993, 0.30765459, 0.24639364]]])"
      ]
     },
     "execution_count": 151,
     "metadata": {},
     "output_type": "execute_result"
    }
   ],
   "source": [
    "a20.swapaxes(1,0)"
   ]
  },
  {
   "cell_type": "markdown",
   "metadata": {},
   "source": [
    "# Mathematical and Statistical Methods"
   ]
  },
  {
   "cell_type": "code",
   "execution_count": 137,
   "metadata": {},
   "outputs": [
    {
     "data": {
      "text/plain": [
       "22.714285714285715"
      ]
     },
     "execution_count": 137,
     "metadata": {},
     "output_type": "execute_result"
    }
   ],
   "source": [
    "a21=np.array([9,4,2,1,22,77,44])\n",
    "a21.mean()"
   ]
  },
  {
   "cell_type": "code",
   "execution_count": 138,
   "metadata": {},
   "outputs": [
    {
     "data": {
      "text/plain": [
       "array([  9,  13,  15,  16,  38, 115, 159], dtype=int32)"
      ]
     },
     "execution_count": 138,
     "metadata": {},
     "output_type": "execute_result"
    }
   ],
   "source": [
    "a21.cumsum()"
   ]
  },
  {
   "cell_type": "code",
   "execution_count": 139,
   "metadata": {},
   "outputs": [
    {
     "data": {
      "text/plain": [
       "array([      9,      36,      72,      72,    1584,  121968, 5366592],\n",
       "      dtype=int32)"
      ]
     },
     "execution_count": 139,
     "metadata": {},
     "output_type": "execute_result"
    }
   ],
   "source": [
    "a21.cumprod()"
   ]
  },
  {
   "cell_type": "code",
   "execution_count": 140,
   "metadata": {},
   "outputs": [
    {
     "data": {
      "text/plain": [
       "array([False, False, False, False,  True,  True,  True])"
      ]
     },
     "execution_count": 140,
     "metadata": {},
     "output_type": "execute_result"
    }
   ],
   "source": [
    "a22=a21>20\n",
    "a22"
   ]
  },
  {
   "cell_type": "code",
   "execution_count": 141,
   "metadata": {},
   "outputs": [
    {
     "data": {
      "text/plain": [
       "3"
      ]
     },
     "execution_count": 141,
     "metadata": {},
     "output_type": "execute_result"
    }
   ],
   "source": [
    "a22.sum() #Total count of true values"
   ]
  },
  {
   "cell_type": "code",
   "execution_count": 142,
   "metadata": {},
   "outputs": [
    {
     "data": {
      "text/plain": [
       "False"
      ]
     },
     "execution_count": 142,
     "metadata": {},
     "output_type": "execute_result"
    }
   ],
   "source": [
    "a22.all() #all elements in array are true ??"
   ]
  },
  {
   "cell_type": "code",
   "execution_count": 143,
   "metadata": {},
   "outputs": [
    {
     "data": {
      "text/plain": [
       "True"
      ]
     },
     "execution_count": 143,
     "metadata": {},
     "output_type": "execute_result"
    }
   ],
   "source": [
    "a22.any() #any element in array is true?"
   ]
  },
  {
   "cell_type": "code",
   "execution_count": 157,
   "metadata": {},
   "outputs": [
    {
     "data": {
      "text/plain": [
       "array([[[0.73142128, 0.52370801],\n",
       "        [0.0925818 , 0.10605922]],\n",
       "\n",
       "       [[0.14922495, 0.16120001],\n",
       "        [0.05275579, 0.04701317]],\n",
       "\n",
       "       [[0.9484283 , 0.09129179],\n",
       "        [0.50835168, 0.11862982]],\n",
       "\n",
       "       [[0.21478785, 0.76307207],\n",
       "        [0.93813482, 0.46971269]]])"
      ]
     },
     "execution_count": 157,
     "metadata": {},
     "output_type": "execute_result"
    }
   ],
   "source": [
    "a23=np.random.rand(4,2,2)\n",
    "a23"
   ]
  },
  {
   "cell_type": "code",
   "execution_count": 160,
   "metadata": {},
   "outputs": [
    {
     "data": {
      "text/plain": [
       "array([[[0.73142128, 0.52370801],\n",
       "        [0.14922495, 0.16120001],\n",
       "        [0.9484283 , 0.09129179],\n",
       "        [0.21478785, 0.76307207]],\n",
       "\n",
       "       [[0.0925818 , 0.10605922],\n",
       "        [0.05275579, 0.04701317],\n",
       "        [0.50835168, 0.11862982],\n",
       "        [0.93813482, 0.46971269]]])"
      ]
     },
     "execution_count": 160,
     "metadata": {},
     "output_type": "execute_result"
    }
   ],
   "source": [
    "a23.swapaxes(0,1)"
   ]
  },
  {
   "cell_type": "code",
   "execution_count": 163,
   "metadata": {},
   "outputs": [
    {
     "data": {
      "text/plain": [
       "array([ 1,  2,  4,  9, 22, 44, 77])"
      ]
     },
     "execution_count": 163,
     "metadata": {},
     "output_type": "execute_result"
    }
   ],
   "source": [
    "a21.sort()\n",
    "a21"
   ]
  },
  {
   "cell_type": "code",
   "execution_count": 164,
   "metadata": {},
   "outputs": [
    {
     "data": {
      "text/plain": [
       "array([ 1,  2,  4,  9, 22, 44, 77])"
      ]
     },
     "execution_count": 164,
     "metadata": {},
     "output_type": "execute_result"
    }
   ],
   "source": [
    "np.unique(a21)"
   ]
  },
  {
   "cell_type": "code",
   "execution_count": null,
   "metadata": {},
   "outputs": [],
   "source": []
  }
 ],
 "metadata": {
  "kernelspec": {
   "display_name": "Python 3",
   "language": "python",
   "name": "python3"
  },
  "language_info": {
   "codemirror_mode": {
    "name": "ipython",
    "version": 3
   },
   "file_extension": ".py",
   "mimetype": "text/x-python",
   "name": "python",
   "nbconvert_exporter": "python",
   "pygments_lexer": "ipython3",
   "version": "3.7.3"
  }
 },
 "nbformat": 4,
 "nbformat_minor": 2
}
